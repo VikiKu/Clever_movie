{
  "nbformat": 4,
  "nbformat_minor": 0,
  "metadata": {
    "colab": {
      "provenance": [],
      "gpuType": "T4"
    },
    "kernelspec": {
      "name": "python3",
      "display_name": "Python 3"
    },
    "language_info": {
      "name": "python"
    },
    "accelerator": "GPU"
  },
  "cells": [
    {
      "cell_type": "code",
      "execution_count": null,
      "metadata": {
        "id": "g-uGneXsH-2P"
      },
      "outputs": [],
      "source": [
        "!pip install pyTelegramBotAPI #устанавливаю библиотеку для телеграм-бота\n",
        "!pip install bertopic\n",
        "!pip install emoji"
      ]
    },
    {
      "cell_type": "code",
      "source": [
        "from bertopic import BERTopic\n",
        "\n",
        "import pandas as pd\n",
        "import numpy as np\n",
        "\n",
        "from google.colab import drive\n",
        "drive.mount('/content/drive')\n",
        "\n",
        "import emoji\n",
        "import telebot\n",
        "from telebot import types\n",
        "import random"
      ],
      "metadata": {
        "colab": {
          "base_uri": "https://localhost:8080/"
        },
        "id": "IJWYpdiLIUtp",
        "outputId": "841e0e00-b942-4e69-933d-2b25bba8d7b4"
      },
      "execution_count": null,
      "outputs": [
        {
          "output_type": "stream",
          "name": "stdout",
          "text": [
            "Mounted at /content/drive\n"
          ]
        }
      ]
    },
    {
      "cell_type": "code",
      "source": [
        "top_df_2 = pd.read_csv('/content/drive/MyDrive/model/top_df_3.csv', index_col=0) # данные, пропущенные через модель\n",
        "topic_model = BERTopic.load('/content/drive/MyDrive/model/mm3') # модель"
      ],
      "metadata": {
        "id": "1KWSDm9eIe0Z"
      },
      "execution_count": null,
      "outputs": []
    },
    {
      "cell_type": "code",
      "source": [
        "# определение функции возвращения ссылок\n",
        "\n",
        "def return_links(my_mes):\n",
        "    my_topic = topic_model.find_topics(my_mes, top_n = 1)[0][0]\n",
        "    return top_df_2[top_df_2.topic  == my_topic].sample(n=1).link #вывод подходящих ссылок"
      ],
      "metadata": {
        "id": "mOyrArM7Il3x"
      },
      "execution_count": null,
      "outputs": []
    },
    {
      "cell_type": "code",
      "source": [
        "botTimeWeb = telebot.TeleBot('6767214855:AAHGuoOnbmlpC5FRpGq6AY-pkbQJxmFDXSI')#здесь уникальный токен бота\n",
        "\n",
        "#обработчик сообщений message_handler\n",
        "@botTimeWeb.message_handler(commands=['start'])\n",
        "def startBot(message):\n",
        "  first_mess = f\"<b>{message.from_user.first_name} {message.from_user.last_name}</b>, привет!\\nХочешь я помогу тебе выбрать фильм для просмотра?\"+ emoji.emojize(\":brain:\")\n",
        "  #создание кнопки типа inline(отображается под сообщением), переправляет пользователя на следующее сообщение\n",
        "  key = types.InlineKeyboardMarkup()\n",
        "\n",
        "  button_yes = types.InlineKeyboardButton(text = 'Да', callback_data = 'yes')\n",
        "\n",
        "  button_no = types.InlineKeyboardButton(text = 'Нет', callback_data = 'no')\n",
        "\n",
        "  key.add(button_yes, button_no)\n",
        "  botTimeWeb.send_message(message.chat.id, first_mess, parse_mode='html', reply_markup=key) # бот отправляет сообщение\n",
        "\n",
        "\n",
        "#функционал кнопки \"Да\" и \"Нет\"\n",
        "@botTimeWeb.callback_query_handler(func=lambda call:call.data == 'yes')\n",
        "def response(function_call):\n",
        "        second_mess = \"Напиши мне в ответном сообщении, какое у тебя настроение и чего ты ожидаешь от просмотра))\"\n",
        "        botTimeWeb.send_message(function_call.message.chat.id, second_mess)\n",
        "        # сообщение от пользователя и ответ на него\n",
        "        @botTimeWeb.message_handler(content_types=[\"text\"])\n",
        "        def answer_message(message):\n",
        "            mymes = message.text\n",
        "            answer = return_links(mymes) #возвращение ссылки на фильм РАНДОМНОЙ!!!\n",
        "\n",
        "            key = types.InlineKeyboardMarkup()\n",
        "            button_still = types.InlineKeyboardButton(text = 'Ещё', callback_data = 'still')#тут надо добавить кнопку еще\n",
        "            key.add(button_still)\n",
        "\n",
        "            botTimeWeb.send_message(message.chat.id,answer,parse_mode='html', reply_markup=key)\n",
        "\n",
        "            @botTimeWeb.callback_query_handler(func=lambda call: call.data == 'still')\n",
        "            def response_(function_call):\n",
        "               third_mess = return_links(mymes) #возвращение ссылки на фильм\n",
        "               key = types.InlineKeyboardMarkup()\n",
        "               button_still = types.InlineKeyboardButton(text = 'Ещё', callback_data = 'still')#тут надо добавить кнопку еще\n",
        "               key.add(button_still)\n",
        "               botTimeWeb.send_message(function_call.message.chat.id, third_mess,parse_mode='html', reply_markup=key)\n",
        "               #обработка запроса кнопки \"ещё\" закончена\n",
        "               botTimeWeb.answer_callback_query(function_call.id)\n",
        "\n",
        "\n",
        "        #обработка запроса кнопки \"да\" закончена\n",
        "        botTimeWeb.answer_callback_query(function_call.id)\n",
        "\n",
        "@botTimeWeb.callback_query_handler(func=lambda call:call.data == 'no')\n",
        "def response(function_call):\n",
        "        #if function_call.data == \"no\": #если нажата кнопка нет\n",
        "        second_mess = \"Что ж...насильно мил не будешь\"+ emoji.emojize(\":winking_face:\")\n",
        "        botTimeWeb.send_message(function_call.message.chat.id, second_mess)\n",
        "        #обработка запроса закончена\n",
        "        botTimeWeb.answer_callback_query(function_call.id)\n",
        "\n",
        "\n",
        "#непрерывная работа бота\n",
        "botTimeWeb.infinity_polling()"
      ],
      "metadata": {
        "id": "1sMyFrLlI_LV"
      },
      "execution_count": null,
      "outputs": []
    }
  ]
}