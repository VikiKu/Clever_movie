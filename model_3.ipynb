{
  "nbformat": 4,
  "nbformat_minor": 0,
  "metadata": {
    "colab": {
      "provenance": [],
      "gpuType": "T4"
    },
    "kernelspec": {
      "name": "python3",
      "display_name": "Python 3"
    },
    "language_info": {
      "name": "python"
    },
    "accelerator": "GPU"
  },
  "cells": [
    {
      "cell_type": "markdown",
      "source": [
        "В этом блокноте представлено построение и сохранение модели BERTopic на непредобработанных данных. На выходе имеем датасет link|num_of_topic - сохранение его. (почему -то так оно работает лучше, чем с предобработанными...однако, слова фильм, этот и т.п. всё же мешаются)"
      ],
      "metadata": {
        "id": "aDz_7xvgkoLU"
      }
    },
    {
      "cell_type": "code",
      "source": [
        "!pip install transformers\n",
        "!pip install bertopic"
      ],
      "metadata": {
        "id": "qXcMRkUhQaRZ"
      },
      "execution_count": null,
      "outputs": []
    },
    {
      "cell_type": "code",
      "source": [
        "from bertopic import BERTopic"
      ],
      "metadata": {
        "id": "b9zXO88oQemt"
      },
      "execution_count": null,
      "outputs": []
    },
    {
      "cell_type": "code",
      "execution_count": null,
      "metadata": {
        "id": "Pkc2mXcyknZ-",
        "colab": {
          "base_uri": "https://localhost:8080/"
        },
        "outputId": "d9a54e8a-0097-4fae-c5f0-381840edf7ed"
      },
      "outputs": [
        {
          "output_type": "stream",
          "name": "stdout",
          "text": [
            "Mounted at /content/drive\n"
          ]
        }
      ],
      "source": [
        "import numpy as np\n",
        "import pandas as pd\n",
        "import torch\n",
        "\n",
        "from google.colab import drive\n",
        "drive.mount('/content/drive')"
      ]
    },
    {
      "cell_type": "code",
      "source": [
        "#загрузка полного датасета\n",
        "mydf=pd.read_csv('/content/drive/MyDrive/model/final_df100.csv', index_col=0)\n",
        "df = mydf[['id', 'review']].drop_duplicates(subset=['review'],ignore_index= True) # удаляю повторы комментариев"
      ],
      "metadata": {
        "id": "6wXv7Ok2mibY"
      },
      "execution_count": null,
      "outputs": []
    },
    {
      "cell_type": "code",
      "source": [
        "df = df.sort_values(by = ['id'], ignore_index = True)\n",
        "df = df.groupby('id').head(5) #датафрейм, в котором нет дубликатов и комментариев к одному фильму не более 5 !!!!!\n",
        "\n",
        "# обучение и сохранение модели\n",
        "docs_ = df[\"review\"].to_list()\n",
        "\n",
        "device = torch.device(\"cuda\") if torch.cuda.is_available() else torch.device(\"cpu\")\n",
        "#вручную задаю количество тем 200 !!!!!\n",
        "topic_model = BERTopic(language=\"russian\", nr_topics = 200)\n",
        "\n",
        "topics, _ = topic_model.fit_transform(docs_)\n",
        "\n",
        "topic_model.save('/content/drive/MyDrive/model/mm3')"
      ],
      "metadata": {
        "id": "ZE1zGp4SlYyZ",
        "colab": {
          "base_uri": "https://localhost:8080/"
        },
        "outputId": "a645c5dc-68ea-4eb7-8971-98962e3a271a"
      },
      "execution_count": null,
      "outputs": [
        {
          "output_type": "stream",
          "name": "stderr",
          "text": [
            "2024-04-06 16:54:54,474 - BERTopic - WARNING: When you use `pickle` to save/load a BERTopic model,please make sure that the environments in which you saveand load the model are **exactly** the same. The version of BERTopic,its dependencies, and python need to remain the same.\n"
          ]
        }
      ]
    },
    {
      "cell_type": "code",
      "source": [
        "# загрузка ранее рассчитанной модели BERTopic (Важно, делать это нужно на GPU) модель mm - на непредобработанных данных!!! просто эксперимент\n",
        "topic_model = BERTopic.load('/content/drive/MyDrive/model/mm3')"
      ],
      "metadata": {
        "id": "fIrFa0bqmqZB"
      },
      "execution_count": null,
      "outputs": []
    },
    {
      "cell_type": "code",
      "source": [
        "a = [0]*len(df['review']) # определение самой подходящей темы для каждого фильма из датасета\n",
        "for i in range(len(df['review'])):\n",
        "  a[i] = topic_model.find_topics(df['review'][i], top_n = 1)[0][0]\n",
        "\n",
        "link_list = [None]*len(df['id']) # список ссылок в таблицу\n",
        "for i in range(len(df['id'])):\n",
        "  link_list[i] = 'https://www.kinopoisk.ru/film/'+df['id'][i].__str__()+'/'\n",
        "\n",
        "top_df = df.assign(link = link_list, topic = a)\n",
        "top_df_3 = top_df[top_df.topic > 1]\n"
      ],
      "metadata": {
        "id": "KT2_mv1Snjck"
      },
      "execution_count": null,
      "outputs": []
    },
    {
      "cell_type": "code",
      "source": [
        "# СОХРАНЕНИЕ ТАБЛИЦЫ\n",
        "top_df_3.to_csv('top_df_3.csv')\n",
        "!cp top_df_3.csv \"drive/My Drive/model\""
      ],
      "metadata": {
        "id": "5pBJM9VGSN3m"
      },
      "execution_count": null,
      "outputs": []
    },
    {
      "cell_type": "code",
      "source": [
        "mymes = \"обрести веру в любовь и настоящие искренние чувства\"\n",
        "\n",
        "def return_links(my_mes):\n",
        "    my_topic = topic_model.find_topics(my_mes, top_n = 1)[0][0]\n",
        "    return top_df_3[top_df_3.topic  == my_topic].link.tail(30) #вывод подходящих ссылок\n",
        "\n",
        "return_links(mymes)"
      ],
      "metadata": {
        "id": "lCdZSGSBUATk"
      },
      "execution_count": null,
      "outputs": []
    }
  ]
}